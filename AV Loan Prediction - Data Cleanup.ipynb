{
 "cells": [
  {
   "cell_type": "markdown",
   "metadata": {},
   "source": [
    "# AV Loan Prediction Problem - Data Preprocessing "
   ]
  },
  {
   "cell_type": "markdown",
   "metadata": {},
   "source": [
    "This is the iPython notebook wherein I preprocess the _train_ and _test_ datasets for the `Analytics Vidya Loan Prediction Problem` (@see: [Link on Analytics Vidya Website](https://datahack.analyticsvidhya.com/contest/practice-problem-loan-prediction-iii/)). The analysis itself has been done in a separate notebook (@see [Analysis](AV Loan Prediction - Analysis & Prediction.ipynb)).\n",
    "\n",
    "**Problem Statement: **\n",
    "Dream Housing Finance company deals in all home loans. They have presence across all urban, semi urban and rural areas. The company has to assess the eligibility for a loan of customers applying for a loan.\n",
    "\n",
    "It wants to automate the loan eligibility process (real time) based on customer details provided while filling an online application form. These details are `Gender`, `Marital Status`, `Education`, `Number of Dependents`, `Income`,`Loan Amount`, `Credit History` etc. We have been provided a training dataset, whose layout is explained below.\n",
    "\n",
    "Training dataset layout:\n",
    "* **Loan_ID** -  Unique Loan ID\n",
    "* **Gender**  -  Male/ Female\n",
    "* **Married** -  Is applicant married? (Y/N)\n",
    "* **Dependents** - Number of dependents\n",
    "* **Education** - Applicant Education (Graduate/ Under Graduate)\n",
    "* **Self_Employed** - Self employed (Y/N)\n",
    "* **ApplicantIncome** - Applicant income\n",
    "* **CoapplicantIncome** - Coapplicant income\n",
    "* **LoanAmount** - Loan amount **in thousands**\n",
    "* **Loan_Amount_Term** - Term of loan **in months**\n",
    "* **Credit_History** - credit history meets guidelines\n",
    "* **Property_Area** - Urban/ Semi Urban/ Rural\n",
    "* **Loan_Status** - Loan approved (Y/N)\n",
    "\n",
    "We have also been provided a test-set, with the same layout as above, except that the `Loan_Status` (or target) column is missing. "
   ]
  },
  {
   "cell_type": "markdown",
   "metadata": {},
   "source": [
    "### 1. Imports and Tweaks"
   ]
  },
  {
   "cell_type": "code",
   "execution_count": 42,
   "metadata": {},
   "outputs": [
    {
     "name": "stdout",
     "output_type": "stream",
     "text": [
      "Pretty printing has been turned ON\n"
     ]
    }
   ],
   "source": [
    "import numpy as np\n",
    "import pandas as pd\n",
    "import scipy.stats as stats\n",
    "import matplotlib.pyplot as plt\n",
    "import seaborn as sns\n",
    "%matplotlib inline\n",
    "%pprint"
   ]
  },
  {
   "cell_type": "code",
   "execution_count": 43,
   "metadata": {},
   "outputs": [],
   "source": [
    "# Numpy/Pandas & Seaborn tweaks\n",
    "pd.set_option('display.notebook_repr_html',True)\n",
    "pd.set_option('display.max_rows',25)\n",
    "pd.set_option('display.max_columns',25)\n",
    "pd.set_option('display.width',1024)\n",
    "# force all Numpy & Pandas floating point output to 3 decimal places\n",
    "float_formatter = lambda x: '%.4f' % x\n",
    "np.set_printoptions(formatter={'float_kind':float_formatter})\n",
    "pd.set_option('display.float_format', float_formatter)\n",
    "# force Numpy to display very small floats using floating point notation\n",
    "np.set_printoptions(threshold=np.inf, suppress=True, precision=4, linewidth=2048)\n",
    "# force GLOBAL floating point output to 4 decimal places\n",
    "%precision 4\n",
    "\n",
    "# tweaks for Seaborn plotting library\n",
    "plt.style.use('seaborn-muted')\n",
    "sns.set_style('whitegrid')\n",
    "sns.set_style({'font.sans-serif':['Verdana','Arial','Calibri','DejaVu Sans']})\n",
    "sns.set_context('talk')\n",
    "\n",
    "seed = 42\n",
    "np.random.seed(seed)"
   ]
  },
  {
   "cell_type": "markdown",
   "metadata": {
    "collapsed": true
   },
   "source": [
    "### 2. Data Loading and Preliminary Analysis"
   ]
  },
  {
   "cell_type": "code",
   "execution_count": 44,
   "metadata": {},
   "outputs": [],
   "source": [
    "train_data_file, test_data_file = './data/loan_prediction_train_data.csv', './data/loan_prediction_test_data.csv'\n",
    "train_df, test_df = pd.read_csv(train_data_file, index_col=0), pd.read_csv(test_data_file, index_col=0)"
   ]
  },
  {
   "cell_type": "code",
   "execution_count": 45,
   "metadata": {},
   "outputs": [
    {
     "data": {
      "text/html": [
       "<div>\n",
       "<style scoped>\n",
       "    .dataframe tbody tr th:only-of-type {\n",
       "        vertical-align: middle;\n",
       "    }\n",
       "\n",
       "    .dataframe tbody tr th {\n",
       "        vertical-align: top;\n",
       "    }\n",
       "\n",
       "    .dataframe thead th {\n",
       "        text-align: right;\n",
       "    }\n",
       "</style>\n",
       "<table border=\"1\" class=\"dataframe\">\n",
       "  <thead>\n",
       "    <tr style=\"text-align: right;\">\n",
       "      <th></th>\n",
       "      <th>Gender</th>\n",
       "      <th>Married</th>\n",
       "      <th>Dependents</th>\n",
       "      <th>Education</th>\n",
       "      <th>Self_Employed</th>\n",
       "      <th>ApplicantIncome</th>\n",
       "      <th>CoapplicantIncome</th>\n",
       "      <th>LoanAmount</th>\n",
       "      <th>Loan_Amount_Term</th>\n",
       "      <th>Credit_History</th>\n",
       "      <th>Property_Area</th>\n",
       "      <th>Loan_Status</th>\n",
       "    </tr>\n",
       "    <tr>\n",
       "      <th>Loan_ID</th>\n",
       "      <th></th>\n",
       "      <th></th>\n",
       "      <th></th>\n",
       "      <th></th>\n",
       "      <th></th>\n",
       "      <th></th>\n",
       "      <th></th>\n",
       "      <th></th>\n",
       "      <th></th>\n",
       "      <th></th>\n",
       "      <th></th>\n",
       "      <th></th>\n",
       "    </tr>\n",
       "  </thead>\n",
       "  <tbody>\n",
       "    <tr>\n",
       "      <th>LP001002</th>\n",
       "      <td>Male</td>\n",
       "      <td>No</td>\n",
       "      <td>0</td>\n",
       "      <td>Graduate</td>\n",
       "      <td>No</td>\n",
       "      <td>5849</td>\n",
       "      <td>0.0000</td>\n",
       "      <td>nan</td>\n",
       "      <td>360.0000</td>\n",
       "      <td>1.0000</td>\n",
       "      <td>Urban</td>\n",
       "      <td>Y</td>\n",
       "    </tr>\n",
       "    <tr>\n",
       "      <th>LP001003</th>\n",
       "      <td>Male</td>\n",
       "      <td>Yes</td>\n",
       "      <td>1</td>\n",
       "      <td>Graduate</td>\n",
       "      <td>No</td>\n",
       "      <td>4583</td>\n",
       "      <td>1508.0000</td>\n",
       "      <td>128.0000</td>\n",
       "      <td>360.0000</td>\n",
       "      <td>1.0000</td>\n",
       "      <td>Rural</td>\n",
       "      <td>N</td>\n",
       "    </tr>\n",
       "    <tr>\n",
       "      <th>LP001005</th>\n",
       "      <td>Male</td>\n",
       "      <td>Yes</td>\n",
       "      <td>0</td>\n",
       "      <td>Graduate</td>\n",
       "      <td>Yes</td>\n",
       "      <td>3000</td>\n",
       "      <td>0.0000</td>\n",
       "      <td>66.0000</td>\n",
       "      <td>360.0000</td>\n",
       "      <td>1.0000</td>\n",
       "      <td>Urban</td>\n",
       "      <td>Y</td>\n",
       "    </tr>\n",
       "    <tr>\n",
       "      <th>LP001006</th>\n",
       "      <td>Male</td>\n",
       "      <td>Yes</td>\n",
       "      <td>0</td>\n",
       "      <td>Not Graduate</td>\n",
       "      <td>No</td>\n",
       "      <td>2583</td>\n",
       "      <td>2358.0000</td>\n",
       "      <td>120.0000</td>\n",
       "      <td>360.0000</td>\n",
       "      <td>1.0000</td>\n",
       "      <td>Urban</td>\n",
       "      <td>Y</td>\n",
       "    </tr>\n",
       "    <tr>\n",
       "      <th>LP001008</th>\n",
       "      <td>Male</td>\n",
       "      <td>No</td>\n",
       "      <td>0</td>\n",
       "      <td>Graduate</td>\n",
       "      <td>No</td>\n",
       "      <td>6000</td>\n",
       "      <td>0.0000</td>\n",
       "      <td>141.0000</td>\n",
       "      <td>360.0000</td>\n",
       "      <td>1.0000</td>\n",
       "      <td>Urban</td>\n",
       "      <td>Y</td>\n",
       "    </tr>\n",
       "  </tbody>\n",
       "</table>\n",
       "</div>"
      ],
      "text/plain": [
       "         Gender Married Dependents     Education Self_Employed  ApplicantIncome  CoapplicantIncome  LoanAmount  Loan_Amount_Term  Credit_History Property_Area Loan_Status\n",
       "Loan_ID                                                                                                                                                                   \n",
       "LP001002   Male      No          0      Graduate            No             5849             0.0000         nan          360.0000          1.0000         Urban           Y\n",
       "LP001003   Male     Yes          1      Graduate            No             4583          1508.0000    128.0000          360.0000          1.0000         Rural           N\n",
       "LP001005   Male     Yes          0      Graduate           Yes             3000             0.0000     66.0000          360.0000          1.0000         Urban           Y\n",
       "LP001006   Male     Yes          0  Not Graduate            No             2583          2358.0000    120.0000          360.0000          1.0000         Urban           Y\n",
       "LP001008   Male      No          0      Graduate            No             6000             0.0000    141.0000          360.0000          1.0000         Urban           Y"
      ]
     },
     "execution_count": 45,
     "metadata": {},
     "output_type": "execute_result"
    }
   ],
   "source": [
    "train_df.head()\n",
    "#test_df.head()"
   ]
  },
  {
   "cell_type": "markdown",
   "metadata": {},
   "source": [
    "Notice that the structures of both the data files are the same, except that the test set does not have the `Loan_Status` (target or predicted) field."
   ]
  },
  {
   "cell_type": "code",
   "execution_count": 46,
   "metadata": {},
   "outputs": [
    {
     "data": {
      "text/plain": [
       "(614, 367)"
      ]
     },
     "execution_count": 46,
     "metadata": {},
     "output_type": "execute_result"
    }
   ],
   "source": [
    "len(train_df), len(test_df)"
   ]
  },
  {
   "cell_type": "markdown",
   "metadata": {},
   "source": [
    "**Observations:**\n",
    "* We have 614 training samples and 367 samples in the test set.\n",
    "* Training data has 11 features. Emperically, we should have at least 100 records per feature, so we should have had at least 1100 records in the training set. Which means we either do not have sufficient records in the training set or we have redundant features!\n"
   ]
  },
  {
   "cell_type": "code",
   "execution_count": 47,
   "metadata": {},
   "outputs": [
    {
     "name": "stdout",
     "output_type": "stream",
     "text": [
      "<class 'pandas.core.frame.DataFrame'>\n",
      "Index: 614 entries, LP001002 to LP002990\n",
      "Data columns (total 12 columns):\n",
      "Gender               601 non-null object\n",
      "Married              611 non-null object\n",
      "Dependents           599 non-null object\n",
      "Education            614 non-null object\n",
      "Self_Employed        582 non-null object\n",
      "ApplicantIncome      614 non-null int64\n",
      "CoapplicantIncome    614 non-null float64\n",
      "LoanAmount           592 non-null float64\n",
      "Loan_Amount_Term     600 non-null float64\n",
      "Credit_History       564 non-null float64\n",
      "Property_Area        614 non-null object\n",
      "Loan_Status          614 non-null object\n",
      "dtypes: float64(4), int64(1), object(7)\n",
      "memory usage: 62.4+ KB\n"
     ]
    }
   ],
   "source": [
    "# view information of the data fields\n",
    "train_df.info()\n",
    "#test_df.info()"
   ]
  },
  {
   "cell_type": "markdown",
   "metadata": {},
   "source": [
    "**Observations:**\n",
    "* Clearly there is missing data: For example - `Gender` has only 601 of 614 rows, `Dependents` has 599, `Self_Employed` has 582 and so on...\n",
    "* We have a mix of categorical (`Gender, Married, Education, Self Employed and Property Area`) and numeric (`Incomes, LoanAmount, Loan_Amount_Term and Credit_History`) fields. `Credit_History` appears to be a Label encoded categorical (Yes|No) field, where 1 = Yes and 0 = No."
   ]
  },
  {
   "cell_type": "code",
   "execution_count": 48,
   "metadata": {},
   "outputs": [
    {
     "data": {
      "text/html": [
       "<div>\n",
       "<style scoped>\n",
       "    .dataframe tbody tr th:only-of-type {\n",
       "        vertical-align: middle;\n",
       "    }\n",
       "\n",
       "    .dataframe tbody tr th {\n",
       "        vertical-align: top;\n",
       "    }\n",
       "\n",
       "    .dataframe thead th {\n",
       "        text-align: right;\n",
       "    }\n",
       "</style>\n",
       "<table border=\"1\" class=\"dataframe\">\n",
       "  <thead>\n",
       "    <tr style=\"text-align: right;\">\n",
       "      <th></th>\n",
       "      <th>ApplicantIncome</th>\n",
       "      <th>CoapplicantIncome</th>\n",
       "      <th>LoanAmount</th>\n",
       "      <th>Loan_Amount_Term</th>\n",
       "      <th>Credit_History</th>\n",
       "    </tr>\n",
       "  </thead>\n",
       "  <tbody>\n",
       "    <tr>\n",
       "      <th>count</th>\n",
       "      <td>614.0000</td>\n",
       "      <td>614.0000</td>\n",
       "      <td>592.0000</td>\n",
       "      <td>600.0000</td>\n",
       "      <td>564.0000</td>\n",
       "    </tr>\n",
       "    <tr>\n",
       "      <th>mean</th>\n",
       "      <td>5403.4593</td>\n",
       "      <td>1621.2458</td>\n",
       "      <td>146.4122</td>\n",
       "      <td>342.0000</td>\n",
       "      <td>0.8422</td>\n",
       "    </tr>\n",
       "    <tr>\n",
       "      <th>std</th>\n",
       "      <td>6109.0417</td>\n",
       "      <td>2926.2484</td>\n",
       "      <td>85.5873</td>\n",
       "      <td>65.1204</td>\n",
       "      <td>0.3649</td>\n",
       "    </tr>\n",
       "    <tr>\n",
       "      <th>min</th>\n",
       "      <td>150.0000</td>\n",
       "      <td>0.0000</td>\n",
       "      <td>9.0000</td>\n",
       "      <td>12.0000</td>\n",
       "      <td>0.0000</td>\n",
       "    </tr>\n",
       "    <tr>\n",
       "      <th>25%</th>\n",
       "      <td>2877.5000</td>\n",
       "      <td>0.0000</td>\n",
       "      <td>100.0000</td>\n",
       "      <td>360.0000</td>\n",
       "      <td>1.0000</td>\n",
       "    </tr>\n",
       "    <tr>\n",
       "      <th>50%</th>\n",
       "      <td>3812.5000</td>\n",
       "      <td>1188.5000</td>\n",
       "      <td>128.0000</td>\n",
       "      <td>360.0000</td>\n",
       "      <td>1.0000</td>\n",
       "    </tr>\n",
       "    <tr>\n",
       "      <th>75%</th>\n",
       "      <td>5795.0000</td>\n",
       "      <td>2297.2500</td>\n",
       "      <td>168.0000</td>\n",
       "      <td>360.0000</td>\n",
       "      <td>1.0000</td>\n",
       "    </tr>\n",
       "    <tr>\n",
       "      <th>max</th>\n",
       "      <td>81000.0000</td>\n",
       "      <td>41667.0000</td>\n",
       "      <td>700.0000</td>\n",
       "      <td>480.0000</td>\n",
       "      <td>1.0000</td>\n",
       "    </tr>\n",
       "  </tbody>\n",
       "</table>\n",
       "</div>"
      ],
      "text/plain": [
       "       ApplicantIncome  CoapplicantIncome  LoanAmount  Loan_Amount_Term  Credit_History\n",
       "count         614.0000           614.0000    592.0000          600.0000        564.0000\n",
       "mean         5403.4593          1621.2458    146.4122          342.0000          0.8422\n",
       "std          6109.0417          2926.2484     85.5873           65.1204          0.3649\n",
       "min           150.0000             0.0000      9.0000           12.0000          0.0000\n",
       "25%          2877.5000             0.0000    100.0000          360.0000          1.0000\n",
       "50%          3812.5000          1188.5000    128.0000          360.0000          1.0000\n",
       "75%          5795.0000          2297.2500    168.0000          360.0000          1.0000\n",
       "max         81000.0000         41667.0000    700.0000          480.0000          1.0000"
      ]
     },
     "execution_count": 48,
     "metadata": {},
     "output_type": "execute_result"
    }
   ],
   "source": [
    "# and some statistical info for numeric fields\n",
    "train_df.describe()\n",
    "#test_df.describe()"
   ]
  },
  {
   "cell_type": "code",
   "execution_count": 49,
   "metadata": {},
   "outputs": [
    {
     "data": {
      "text/html": [
       "<div>\n",
       "<style scoped>\n",
       "    .dataframe tbody tr th:only-of-type {\n",
       "        vertical-align: middle;\n",
       "    }\n",
       "\n",
       "    .dataframe tbody tr th {\n",
       "        vertical-align: top;\n",
       "    }\n",
       "\n",
       "    .dataframe thead th {\n",
       "        text-align: right;\n",
       "    }\n",
       "</style>\n",
       "<table border=\"1\" class=\"dataframe\">\n",
       "  <thead>\n",
       "    <tr style=\"text-align: right;\">\n",
       "      <th></th>\n",
       "      <th>Gender</th>\n",
       "      <th>Married</th>\n",
       "      <th>Dependents</th>\n",
       "      <th>Education</th>\n",
       "      <th>Self_Employed</th>\n",
       "      <th>Property_Area</th>\n",
       "      <th>Loan_Status</th>\n",
       "    </tr>\n",
       "  </thead>\n",
       "  <tbody>\n",
       "    <tr>\n",
       "      <th>count</th>\n",
       "      <td>601</td>\n",
       "      <td>611</td>\n",
       "      <td>599</td>\n",
       "      <td>614</td>\n",
       "      <td>582</td>\n",
       "      <td>614</td>\n",
       "      <td>614</td>\n",
       "    </tr>\n",
       "    <tr>\n",
       "      <th>unique</th>\n",
       "      <td>2</td>\n",
       "      <td>2</td>\n",
       "      <td>4</td>\n",
       "      <td>2</td>\n",
       "      <td>2</td>\n",
       "      <td>3</td>\n",
       "      <td>2</td>\n",
       "    </tr>\n",
       "    <tr>\n",
       "      <th>top</th>\n",
       "      <td>Male</td>\n",
       "      <td>Yes</td>\n",
       "      <td>0</td>\n",
       "      <td>Graduate</td>\n",
       "      <td>No</td>\n",
       "      <td>Semiurban</td>\n",
       "      <td>Y</td>\n",
       "    </tr>\n",
       "    <tr>\n",
       "      <th>freq</th>\n",
       "      <td>489</td>\n",
       "      <td>398</td>\n",
       "      <td>345</td>\n",
       "      <td>480</td>\n",
       "      <td>500</td>\n",
       "      <td>233</td>\n",
       "      <td>422</td>\n",
       "    </tr>\n",
       "  </tbody>\n",
       "</table>\n",
       "</div>"
      ],
      "text/plain": [
       "       Gender Married Dependents Education Self_Employed Property_Area Loan_Status\n",
       "count     601     611        599       614           582           614         614\n",
       "unique      2       2          4         2             2             3           2\n",
       "top      Male     Yes          0  Graduate            No     Semiurban           Y\n",
       "freq      489     398        345       480           500           233         422"
      ]
     },
     "execution_count": 49,
     "metadata": {},
     "output_type": "execute_result"
    }
   ],
   "source": [
    "# description of categorical values\n",
    "train_df.describe(include='O')"
   ]
  },
  {
   "cell_type": "code",
   "execution_count": 50,
   "metadata": {},
   "outputs": [
    {
     "data": {
      "text/plain": [
       "Gender               13\n",
       "Married               3\n",
       "Dependents           15\n",
       "Education             0\n",
       "Self_Employed        32\n",
       "ApplicantIncome       0\n",
       "CoapplicantIncome     0\n",
       "LoanAmount           22\n",
       "Loan_Amount_Term     14\n",
       "Credit_History       50\n",
       "Property_Area         0\n",
       "Loan_Status           0\n",
       "dtype: int64"
      ]
     },
     "execution_count": 50,
     "metadata": {},
     "output_type": "execute_result"
    }
   ],
   "source": [
    "train_df.isnull().sum()  # how many Nan's?"
   ]
  },
  {
   "cell_type": "markdown",
   "metadata": {
    "collapsed": true
   },
   "source": [
    "Let's view the distributions of the numerical fields above, except for Credit History, which is actually a categorical field."
   ]
  },
  {
   "cell_type": "code",
   "execution_count": 51,
   "metadata": {},
   "outputs": [
    {
     "data": {
      "image/png": "[encoded data removed]",
      "text/plain": [
       "<Figure size 288x216 with 1 Axes>"
      ]
     },
     "metadata": {},
     "output_type": "display_data"
    }
   ],
   "source": [
    "# distribution of the prediction col\n",
    "f, ax = plt.subplots(figsize=(4,3))\n",
    "sns.countplot(x='Loan_Status',data=train_df,ax=ax)\n",
    "plt.title('Countplot of Loan Status')\n",
    "plt.show()\n",
    "plt.close()"
   ]
  },
  {
   "cell_type": "markdown",
   "metadata": {},
   "source": [
    "We have twice as many `Y` rows as there are `N` rows. We may have to up-sampling of 'N' records or choose ROC-AUC as the performance metric."
   ]
  },
  {
   "cell_type": "code",
   "execution_count": 52,
   "metadata": {},
   "outputs": [],
   "source": [
    "for df in [train_df, test_df]:\n",
    "    # create a new column TotalIncome to hold ApplicantIncome & Co-ApplicantIncome\n",
    "    df['TotalIncome'] = df['ApplicantIncome'] + df['CoapplicantIncome']"
   ]
  },
  {
   "cell_type": "code",
   "execution_count": 53,
   "metadata": {},
   "outputs": [
    {
     "name": "stderr",
     "output_type": "stream",
     "text": [
      "/home/mjbhobe/anaconda3/lib/python3.6/site-packages/matplotlib/axes/_axes.py:6462: UserWarning: The 'normed' kwarg is deprecated, and has been replaced by the 'density' kwarg.\n",
      "  warnings.warn(\"The 'normed' kwarg is deprecated, and has been \"\n"
     ]
    },
    {
     "data": {
      "image/png": "[encoded data removed]",
      "text/plain": [
       "<Figure size 1080x288 with 3 Axes>"
      ]
     },
     "metadata": {},
     "output_type": "display_data"
    }
   ],
   "source": [
    "#train_df.hist(column='ApplicantIncome',bins=50)\n",
    "columns = ['ApplicantIncome', 'CoapplicantIncome','TotalIncome']\n",
    "f, ax = plt.subplots(nrows=1, ncols=len(columns), sharey=False, figsize=(15,4))\n",
    "for i, col in enumerate(columns):\n",
    "    _ = sns.distplot(train_df[col], bins=50, kde=False, rug=False, \n",
    "                     hist_kws={'edgecolor':'k','alpha':0.85}, ax=ax[i])"
   ]
  },
  {
   "cell_type": "markdown",
   "metadata": {},
   "source": [
    "Notice that the incomes are right skewed (i.e the mean is >> than median) - this is typical of \"Income\" distribution plots."
   ]
  },
  {
   "cell_type": "code",
   "execution_count": 54,
   "metadata": {},
   "outputs": [
    {
     "data": {
      "image/png": "[encoded data removed]",
      "text/plain": [
       "<Figure size 576x432 with 1 Axes>"
      ]
     },
     "metadata": {},
     "output_type": "display_data"
    }
   ],
   "source": [
    "# can't use sns.distplot on LoanAmount due to NaN values\n",
    "_ = train_df.hist(column='LoanAmount',bins=50, edgecolor='k',figsize=(8,6))"
   ]
  },
  {
   "cell_type": "markdown",
   "metadata": {},
   "source": [
    "From the plots above, it is clear that we have a lot of outliers. Boxplots will confirm the same."
   ]
  },
  {
   "cell_type": "code",
   "execution_count": 55,
   "metadata": {},
   "outputs": [
    {
     "data": {
      "image/png": "[encoded data removed]",
      "text/plain": [
       "<Figure size 576x108 with 1 Axes>"
      ]
     },
     "metadata": {},
     "output_type": "display_data"
    },
    {
     "data": {
      "image/png": "[encoded data removed]",
      "text/plain": [
       "<Figure size 576x108 with 1 Axes>"
      ]
     },
     "metadata": {},
     "output_type": "display_data"
    },
    {
     "data": {
      "image/png": "[encoded data removed]",
      "text/plain": [
       "<Figure size 576x108 with 1 Axes>"
      ]
     },
     "metadata": {},
     "output_type": "display_data"
    }
   ],
   "source": [
    "# zoom-in box plot of the key statistic of each feature\n",
    "for row, col in enumerate(columns):\n",
    "    f, ax = plt.subplots(nrows=1, ncols=1, figsize=(8,1.5))\n",
    "    sns.boxplot(data=train_df[[col]], orient='h', palette='Set2',ax=ax)\n",
    "plt.show()\n",
    "plt.close()"
   ]
  },
  {
   "cell_type": "markdown",
   "metadata": {},
   "source": [
    "We can use a `log()` transformation to correct the skew-ness in the income data, as shown below. We will add additional columns `ApplicantIncome_Log`, `CoapplicantIncome_Log` and `TotalIncome_Log` to the datasets."
   ]
  },
  {
   "cell_type": "code",
   "execution_count": 56,
   "metadata": {},
   "outputs": [],
   "source": [
    "for col_name in columns:\n",
    "    log_col_name = '%s_Log' % col_name\n",
    "    \n",
    "    # create a new col & assign 0.0 as default value\n",
    "    train_df[log_col_name] = 0.0\n",
    "    # set as log(col_name) for all rows where col_name != 0.0\n",
    "    train_df.loc[train_df[col_name] != 0.0, [log_col_name]] = \\\n",
    "      np.log(train_df.loc[train_df[col_name] != 0.0, col_name])\n",
    "    \n",
    "    test_df[log_col_name] = 0.0\n",
    "    test_df.loc[test_df[col_name] != 0.0, [log_col_name]] = \\\n",
    "      np.log(test_df.loc[test_df[col_name] != 0.0, col_name])"
   ]
  },
  {
   "cell_type": "code",
   "execution_count": 57,
   "metadata": {},
   "outputs": [
    {
     "data": {
      "text/html": [
       "<div>\n",
       "<style scoped>\n",
       "    .dataframe tbody tr th:only-of-type {\n",
       "        vertical-align: middle;\n",
       "    }\n",
       "\n",
       "    .dataframe tbody tr th {\n",
       "        vertical-align: top;\n",
       "    }\n",
       "\n",
       "    .dataframe thead th {\n",
       "        text-align: right;\n",
       "    }\n",
       "</style>\n",
       "<table border=\"1\" class=\"dataframe\">\n",
       "  <thead>\n",
       "    <tr style=\"text-align: right;\">\n",
       "      <th></th>\n",
       "      <th>Gender</th>\n",
       "      <th>Married</th>\n",
       "      <th>Dependents</th>\n",
       "      <th>Education</th>\n",
       "      <th>Self_Employed</th>\n",
       "      <th>ApplicantIncome</th>\n",
       "      <th>CoapplicantIncome</th>\n",
       "      <th>LoanAmount</th>\n",
       "      <th>Loan_Amount_Term</th>\n",
       "      <th>Credit_History</th>\n",
       "      <th>Property_Area</th>\n",
       "      <th>Loan_Status</th>\n",
       "      <th>TotalIncome</th>\n",
       "      <th>ApplicantIncome_Log</th>\n",
       "      <th>CoapplicantIncome_Log</th>\n",
       "      <th>TotalIncome_Log</th>\n",
       "    </tr>\n",
       "    <tr>\n",
       "      <th>Loan_ID</th>\n",
       "      <th></th>\n",
       "      <th></th>\n",
       "      <th></th>\n",
       "      <th></th>\n",
       "      <th></th>\n",
       "      <th></th>\n",
       "      <th></th>\n",
       "      <th></th>\n",
       "      <th></th>\n",
       "      <th></th>\n",
       "      <th></th>\n",
       "      <th></th>\n",
       "      <th></th>\n",
       "      <th></th>\n",
       "      <th></th>\n",
       "      <th></th>\n",
       "    </tr>\n",
       "  </thead>\n",
       "  <tbody>\n",
       "    <tr>\n",
       "      <th>LP001002</th>\n",
       "      <td>Male</td>\n",
       "      <td>No</td>\n",
       "      <td>0</td>\n",
       "      <td>Graduate</td>\n",
       "      <td>No</td>\n",
       "      <td>5849</td>\n",
       "      <td>0.0000</td>\n",
       "      <td>nan</td>\n",
       "      <td>360.0000</td>\n",
       "      <td>1.0000</td>\n",
       "      <td>Urban</td>\n",
       "      <td>Y</td>\n",
       "      <td>5849.0000</td>\n",
       "      <td>8.6740</td>\n",
       "      <td>0.0000</td>\n",
       "      <td>8.6740</td>\n",
       "    </tr>\n",
       "    <tr>\n",
       "      <th>LP001003</th>\n",
       "      <td>Male</td>\n",
       "      <td>Yes</td>\n",
       "      <td>1</td>\n",
       "      <td>Graduate</td>\n",
       "      <td>No</td>\n",
       "      <td>4583</td>\n",
       "      <td>1508.0000</td>\n",
       "      <td>128.0000</td>\n",
       "      <td>360.0000</td>\n",
       "      <td>1.0000</td>\n",
       "      <td>Rural</td>\n",
       "      <td>N</td>\n",
       "      <td>6091.0000</td>\n",
       "      <td>8.4301</td>\n",
       "      <td>7.3185</td>\n",
       "      <td>8.7146</td>\n",
       "    </tr>\n",
       "    <tr>\n",
       "      <th>LP001005</th>\n",
       "      <td>Male</td>\n",
       "      <td>Yes</td>\n",
       "      <td>0</td>\n",
       "      <td>Graduate</td>\n",
       "      <td>Yes</td>\n",
       "      <td>3000</td>\n",
       "      <td>0.0000</td>\n",
       "      <td>66.0000</td>\n",
       "      <td>360.0000</td>\n",
       "      <td>1.0000</td>\n",
       "      <td>Urban</td>\n",
       "      <td>Y</td>\n",
       "      <td>3000.0000</td>\n",
       "      <td>8.0064</td>\n",
       "      <td>0.0000</td>\n",
       "      <td>8.0064</td>\n",
       "    </tr>\n",
       "    <tr>\n",
       "      <th>LP001006</th>\n",
       "      <td>Male</td>\n",
       "      <td>Yes</td>\n",
       "      <td>0</td>\n",
       "      <td>Not Graduate</td>\n",
       "      <td>No</td>\n",
       "      <td>2583</td>\n",
       "      <td>2358.0000</td>\n",
       "      <td>120.0000</td>\n",
       "      <td>360.0000</td>\n",
       "      <td>1.0000</td>\n",
       "      <td>Urban</td>\n",
       "      <td>Y</td>\n",
       "      <td>4941.0000</td>\n",
       "      <td>7.8567</td>\n",
       "      <td>7.7656</td>\n",
       "      <td>8.5053</td>\n",
       "    </tr>\n",
       "    <tr>\n",
       "      <th>LP001008</th>\n",
       "      <td>Male</td>\n",
       "      <td>No</td>\n",
       "      <td>0</td>\n",
       "      <td>Graduate</td>\n",
       "      <td>No</td>\n",
       "      <td>6000</td>\n",
       "      <td>0.0000</td>\n",
       "      <td>141.0000</td>\n",
       "      <td>360.0000</td>\n",
       "      <td>1.0000</td>\n",
       "      <td>Urban</td>\n",
       "      <td>Y</td>\n",
       "      <td>6000.0000</td>\n",
       "      <td>8.6995</td>\n",
       "      <td>0.0000</td>\n",
       "      <td>8.6995</td>\n",
       "    </tr>\n",
       "  </tbody>\n",
       "</table>\n",
       "</div>"
      ],
      "text/plain": [
       "         Gender Married Dependents     Education Self_Employed  ApplicantIncome  CoapplicantIncome  LoanAmount  Loan_Amount_Term  Credit_History Property_Area Loan_Status  TotalIncome  ApplicantIncome_Log  CoapplicantIncome_Log  TotalIncome_Log\n",
       "Loan_ID                                                                                                                                                                                                                                             \n",
       "LP001002   Male      No          0      Graduate            No             5849             0.0000         nan          360.0000          1.0000         Urban           Y    5849.0000               8.6740                 0.0000           8.6740\n",
       "LP001003   Male     Yes          1      Graduate            No             4583          1508.0000    128.0000          360.0000          1.0000         Rural           N    6091.0000               8.4301                 7.3185           8.7146\n",
       "LP001005   Male     Yes          0      Graduate           Yes             3000             0.0000     66.0000          360.0000          1.0000         Urban           Y    3000.0000               8.0064                 0.0000           8.0064\n",
       "LP001006   Male     Yes          0  Not Graduate            No             2583          2358.0000    120.0000          360.0000          1.0000         Urban           Y    4941.0000               7.8567                 7.7656           8.5053\n",
       "LP001008   Male      No          0      Graduate            No             6000             0.0000    141.0000          360.0000          1.0000         Urban           Y    6000.0000               8.6995                 0.0000           8.6995"
      ]
     },
     "execution_count": 57,
     "metadata": {},
     "output_type": "execute_result"
    }
   ],
   "source": [
    "train_df.head()"
   ]
  },
  {
   "cell_type": "code",
   "execution_count": 58,
   "metadata": {},
   "outputs": [
    {
     "name": "stderr",
     "output_type": "stream",
     "text": [
      "/home/mjbhobe/anaconda3/lib/python3.6/site-packages/matplotlib/axes/_axes.py:6462: UserWarning: The 'normed' kwarg is deprecated, and has been replaced by the 'density' kwarg.\n",
      "  warnings.warn(\"The 'normed' kwarg is deprecated, and has been \"\n"
     ]
    },
    {
     "data": {
      "image/png": "[encoded data removed]",
      "text/plain": [
       "<Figure size 1080x288 with 3 Axes>"
      ]
     },
     "metadata": {},
     "output_type": "display_data"
    }
   ],
   "source": [
    "columns = ['ApplicantIncome_Log', 'CoapplicantIncome_Log','TotalIncome_Log']\n",
    "f, ax = plt.subplots(nrows=1, ncols=len(columns), sharey=False, figsize=(15,4))\n",
    "for i, col in enumerate(columns):\n",
    "    _ = sns.distplot(train_df[col], bins=50, kde=False, rug=False, hist_kws={'edgecolor':'k','alpha':0.85}, ax=ax[i])"
   ]
  },
  {
   "cell_type": "markdown",
   "metadata": {},
   "source": [
    "Now that is much better - the `log()` distribution appears to be more normally distributed. Notice that there is a huge bar at zero in the `CoapplicantIncome` field, which indicates that there are several customers with 0 Coapplicant incomes. Hence it would be better to use log(ApplicantIncome + CoapplicantIncome), which is what we have in `TotalIncome_Log` field.\n",
    "\n",
    "The `TotalIncome_Log` field alone should suffice for our prediction model."
   ]
  },
  {
   "cell_type": "markdown",
   "metadata": {},
   "source": [
    "Let's do a quick check on the categorical fields, and their impact on the final outcome (i.e. `Loan_Status` field). We will create pivot tables on each of the categorical fields and compute the mean() of the `Loan_Status` decision, where `Y` ~= 1 and `N` ~= 0 [~= stands for 'is interpreted as']"
   ]
  },
  {
   "cell_type": "code",
   "execution_count": 59,
   "metadata": {},
   "outputs": [],
   "source": [
    "# by credit history\n",
    "cr_hist1 = train_df.pivot_table(values='Loan_Status',index=['Credit_History'],\n",
    "                                aggfunc=lambda x: x.map({'Y':1,'N':0}).mean())\n",
    "# by gender\n",
    "cr_hist2 = train_df.pivot_table(values='Loan_Status',index=['Gender'],\n",
    "                                   aggfunc=lambda x: x.map({'Y':1,'N':0}).mean())\n",
    "# by Marital status\n",
    "cr_hist3 = train_df.pivot_table(values='Loan_Status',index=['Married'],\n",
    "                                   aggfunc=lambda x: x.map({'Y':1,'N':0}).mean())\n",
    "\n",
    "# by dependents count\n",
    "cr_hist4 = train_df.pivot_table(values='Loan_Status',index=['Dependents'],\n",
    "                                   aggfunc=lambda x: x.map({'Y':1,'N':0}).mean())\n",
    "# by education\n",
    "cr_hist5 = train_df.pivot_table(values='Loan_Status',index=['Education'],\n",
    "                                   aggfunc=lambda x: x.map({'Y':1,'N':0}).mean())\n",
    "# by Self Employed status\n",
    "cr_hist6 = train_df.pivot_table(values='Loan_Status',index=['Self_Employed'],\n",
    "                                   aggfunc=lambda x: x.map({'Y':1,'N':0}).mean())\n",
    "# by property area\n",
    "cr_hist7 = train_df.pivot_table(values='Loan_Status',index=['Property_Area'],\n",
    "                                   aggfunc=lambda x: x.map({'Y':1,'N':0}).mean())"
   ]
  },
  {
   "cell_type": "code",
   "execution_count": 60,
   "metadata": {},
   "outputs": [
    {
     "data": {
      "text/plain": [
       "<matplotlib.axes._subplots.AxesSubplot at 0x7f27552b52e8>"
      ]
     },
     "execution_count": 60,
     "metadata": {},
     "output_type": "execute_result"
    },
    {
     "data": {
      "image/png": "[encoded data removed]",
      "text/plain": [
       "<Figure size 1296x720 with 7 Axes>"
      ]
     },
     "metadata": {},
     "output_type": "display_data"
    }
   ],
   "source": [
    "# lets plot each dataset above\n",
    "fig  = plt.figure(figsize=(18,10))\n",
    "ax1 = fig.add_subplot(241)\n",
    "ax1.set_xlabel('Credit History')\n",
    "ax1.set_ylabel('Probability of getting a loan')\n",
    "cr_hist1.plot(kind='bar',ax=ax1,legend=False)\n",
    "\n",
    "ax2 = fig.add_subplot(242)\n",
    "ax2.set_xlabel('Gender')\n",
    "ax2.set_ylabel('Probability of getting a loan')\n",
    "cr_hist2.plot(kind='bar',ax=ax2,legend=False)\n",
    "\n",
    "ax3 = fig.add_subplot(243)\n",
    "ax3.set_xlabel('Married')\n",
    "ax3.set_ylabel('Probability of getting a loan')\n",
    "cr_hist3.plot(kind='bar',ax=ax3,legend=False)\n",
    "\n",
    "ax4 = fig.add_subplot(244)\n",
    "ax4.set_xlabel('Dependents')\n",
    "ax4.set_ylabel('Probability of getting a loan')\n",
    "cr_hist4.plot(kind='bar',ax=ax4,legend=False)\n",
    "\n",
    "ax5 = fig.add_subplot(245)\n",
    "ax5.set_xlabel('Education')\n",
    "ax5.set_ylabel('Probability of getting a loan')\n",
    "cr_hist5.plot(kind='bar',ax=ax5,legend=False)\n",
    "\n",
    "ax6 = fig.add_subplot(246)\n",
    "ax6.set_xlabel('Self Employed')\n",
    "ax6.set_ylabel('Probability of getting a loan')\n",
    "cr_hist6.plot(kind='bar',ax=ax6,legend=False)\n",
    "\n",
    "ax7 = fig.add_subplot(247)\n",
    "ax7.set_xlabel('Property Area')\n",
    "ax7.set_ylabel('Probability of getting a loan')\n",
    "cr_hist7.plot(kind='bar',ax=ax7,legend=False)"
   ]
  },
  {
   "cell_type": "markdown",
   "metadata": {},
   "source": [
    "**Observation:** \n",
    "* `Credit_History` is a decisive parameter to determine whether one qualifies for a loan or not (when `Credit_History` == `Y`, the chance of getting an approval is ~80% as opposed to ~9% when `Credit_History` == `N`). \n",
    "* The rest of the categorical fields have very little differences in their probabolities, so have similar influence on the final outcome.\n",
    "\n",
    "To further re-enforce this, let us view a stacked bar chart of `Loan_Status` by `Credit_History`. We can see that a large proportion of applications where `Credit_History` == `Y` were approved as opposed to those where `Credit_History` == `N`"
   ]
  },
  {
   "cell_type": "code",
   "execution_count": 61,
   "metadata": {},
   "outputs": [
    {
     "data": {
      "text/plain": [
       "<matplotlib.axes._subplots.AxesSubplot at 0x7f27551f1ba8>"
      ]
     },
     "execution_count": 61,
     "metadata": {},
     "output_type": "execute_result"
    },
    {
     "data": {
      "image/png": "[encoded data removed]",
      "text/plain": [
       "<Figure size 432x288 with 1 Axes>"
      ]
     },
     "metadata": {},
     "output_type": "display_data"
    }
   ],
   "source": [
    "df_cs = pd.crosstab(train_df['Credit_History'],train_df['Loan_Status'])\n",
    "df_cs.plot(kind='bar',stacked=True)"
   ]
  },
  {
   "cell_type": "code",
   "execution_count": 62,
   "metadata": {},
   "outputs": [
    {
     "data": {
      "text/html": [
       "<div>\n",
       "<style scoped>\n",
       "    .dataframe tbody tr th:only-of-type {\n",
       "        vertical-align: middle;\n",
       "    }\n",
       "\n",
       "    .dataframe tbody tr th {\n",
       "        vertical-align: top;\n",
       "    }\n",
       "\n",
       "    .dataframe thead th {\n",
       "        text-align: right;\n",
       "    }\n",
       "</style>\n",
       "<table border=\"1\" class=\"dataframe\">\n",
       "  <thead>\n",
       "    <tr style=\"text-align: right;\">\n",
       "      <th>Loan_Status</th>\n",
       "      <th>N</th>\n",
       "      <th>Y</th>\n",
       "    </tr>\n",
       "    <tr>\n",
       "      <th>Credit_History</th>\n",
       "      <th></th>\n",
       "      <th></th>\n",
       "    </tr>\n",
       "  </thead>\n",
       "  <tbody>\n",
       "    <tr>\n",
       "      <th>0.0000</th>\n",
       "      <td>82</td>\n",
       "      <td>7</td>\n",
       "    </tr>\n",
       "    <tr>\n",
       "      <th>1.0000</th>\n",
       "      <td>97</td>\n",
       "      <td>378</td>\n",
       "    </tr>\n",
       "  </tbody>\n",
       "</table>\n",
       "</div>"
      ],
      "text/plain": [
       "Loan_Status      N    Y\n",
       "Credit_History         \n",
       "0.0000          82    7\n",
       "1.0000          97  378"
      ]
     },
     "execution_count": 62,
     "metadata": {},
     "output_type": "execute_result"
    }
   ],
   "source": [
    "df_cs"
   ]
  },
  {
   "cell_type": "markdown",
   "metadata": {},
   "source": [
    "### Handling NaN (or NULL) values"
   ]
  },
  {
   "cell_type": "code",
   "execution_count": 63,
   "metadata": {},
   "outputs": [
    {
     "data": {
      "text/plain": [
       "Gender                   13\n",
       "Married                   3\n",
       "Dependents               15\n",
       "Education                 0\n",
       "Self_Employed            32\n",
       "ApplicantIncome           0\n",
       "CoapplicantIncome         0\n",
       "LoanAmount               22\n",
       "Loan_Amount_Term         14\n",
       "Credit_History           50\n",
       "Property_Area             0\n",
       "Loan_Status               0\n",
       "TotalIncome               0\n",
       "ApplicantIncome_Log       0\n",
       "CoapplicantIncome_Log     0\n",
       "TotalIncome_Log           0\n",
       "dtype: int64"
      ]
     },
     "execution_count": 63,
     "metadata": {},
     "output_type": "execute_result"
    }
   ],
   "source": [
    "train_df.isnull().sum()"
   ]
  },
  {
   "cell_type": "code",
   "execution_count": 64,
   "metadata": {},
   "outputs": [
    {
     "data": {
      "text/plain": [
       "Gender                   11\n",
       "Married                   0\n",
       "Dependents               10\n",
       "Education                 0\n",
       "Self_Employed            23\n",
       "ApplicantIncome           0\n",
       "CoapplicantIncome         0\n",
       "LoanAmount                5\n",
       "Loan_Amount_Term          6\n",
       "Credit_History           29\n",
       "Property_Area             0\n",
       "TotalIncome               0\n",
       "ApplicantIncome_Log       0\n",
       "CoapplicantIncome_Log     0\n",
       "TotalIncome_Log           0\n",
       "dtype: int64"
      ]
     },
     "execution_count": 64,
     "metadata": {},
     "output_type": "execute_result"
    }
   ],
   "source": [
    "test_df.isnull().sum()"
   ]
  },
  {
   "cell_type": "markdown",
   "metadata": {},
   "source": [
    "### Plan for handling NaN (or NULL) values in the data:\n",
    "\n",
    "Following table shows the output of the above print(...) line intersperced with comments on how we plan to handle missing data per field.\n",
    "\n",
    "\n",
    "    Output from print(...)         Strategy to handle missing data\n",
    "    ----------------------------   -------------------------------------------------  \n",
    "    Gender               13        impute with mode (i.e. most common) gender\n",
    "    Married               3        impute with mode (i.e. most common) status\n",
    "    Dependents           15        see note below (**)\n",
    "    Education             0    \n",
    "    Self_Employed        32        impute with mode (i.e. most common) value\n",
    "    ApplicantIncome       0\n",
    "    CoapplicantIncome     0\n",
    "    LoanAmount           22        impute with median() value for loan amount\n",
    "    Loan_Amount_Term     14        impute with median() value for loan amount\n",
    "    Credit_History       50        (Yes/No type of field) - use KNN imputation\n",
    "    Property_Area         0\n",
    "    Loan_Status           0\n",
    "    -- we added these fields....\n",
    "    ApplicantIncome_Log       0\n",
    "    CoapplicantIncome_Log     0\n",
    "    Total_Income              0\n",
    "    Total_Income_Log          0  -- use this field\n",
    "    dtype: int64\n",
    "\n",
    "  \n",
    "  ** NOTE about Dependents field: **\n",
    "  Dependents have values in [0,1,2,3+], which means that loan processing treats\n",
    "  3+ dependents same as 3. First we will replace all 3+ with 3, then we will impute\n",
    "  nulls with most common values (NOTE: this should be treated as a categorical field!)"
   ]
  },
  {
   "cell_type": "code",
   "execution_count": 65,
   "metadata": {},
   "outputs": [
    {
     "name": "stdout",
     "output_type": "stream",
     "text": [
      "<class 'pandas.core.frame.DataFrame'>\n",
      "Index: 614 entries, LP001002 to LP002990\n",
      "Data columns (total 16 columns):\n",
      "Gender                   601 non-null object\n",
      "Married                  611 non-null object\n",
      "Dependents               599 non-null object\n",
      "Education                614 non-null object\n",
      "Self_Employed            582 non-null object\n",
      "ApplicantIncome          614 non-null int64\n",
      "CoapplicantIncome        614 non-null float64\n",
      "LoanAmount               592 non-null float64\n",
      "Loan_Amount_Term         600 non-null float64\n",
      "Credit_History           564 non-null float64\n",
      "Property_Area            614 non-null object\n",
      "Loan_Status              614 non-null object\n",
      "TotalIncome              614 non-null float64\n",
      "ApplicantIncome_Log      614 non-null float64\n",
      "CoapplicantIncome_Log    614 non-null float64\n",
      "TotalIncome_Log          614 non-null float64\n",
      "dtypes: float64(8), int64(1), object(7)\n",
      "memory usage: 101.5+ KB\n"
     ]
    }
   ],
   "source": [
    "train_df.info()"
   ]
  },
  {
   "cell_type": "code",
   "execution_count": 66,
   "metadata": {},
   "outputs": [],
   "source": [
    "# Cetegorical fields\n",
    "for df in [train_df,test_df]:\n",
    "    df['Dependents'].replace('3+','3',inplace=True)\n",
    "\n",
    "for field_name in ['Gender','Married','Dependents','Self_Employed','Credit_History']:\n",
    "    for df in [train_df, test_df]:\n",
    "        mode_val = df.loc[df[field_name].notnull(),field_name].mode()[0]\n",
    "        df[field_name].fillna(mode_val, inplace=True)"
   ]
  },
  {
   "cell_type": "code",
   "execution_count": 67,
   "metadata": {},
   "outputs": [],
   "source": [
    "# Numeric fields\n",
    "for field_name in ['Loan_Amount_Term']:\n",
    "    for df in [train_df, test_df]:\n",
    "        term_median = df.loc[df[field_name].notnull(),field_name].median()\n",
    "        df[field_name].fillna(term_median, inplace=True)"
   ]
  },
  {
   "cell_type": "code",
   "execution_count": 68,
   "metadata": {},
   "outputs": [
    {
     "data": {
      "text/html": [
       "<div>\n",
       "<style scoped>\n",
       "    .dataframe tbody tr th:only-of-type {\n",
       "        vertical-align: middle;\n",
       "    }\n",
       "\n",
       "    .dataframe tbody tr th {\n",
       "        vertical-align: top;\n",
       "    }\n",
       "\n",
       "    .dataframe thead th {\n",
       "        text-align: right;\n",
       "    }\n",
       "</style>\n",
       "<table border=\"1\" class=\"dataframe\">\n",
       "  <thead>\n",
       "    <tr style=\"text-align: right;\">\n",
       "      <th>Education</th>\n",
       "      <th>Graduate</th>\n",
       "      <th>Not Graduate</th>\n",
       "    </tr>\n",
       "    <tr>\n",
       "      <th>Self_Employed</th>\n",
       "      <th></th>\n",
       "      <th></th>\n",
       "    </tr>\n",
       "  </thead>\n",
       "  <tbody>\n",
       "    <tr>\n",
       "      <th>No</th>\n",
       "      <td>130.0000</td>\n",
       "      <td>113.0000</td>\n",
       "    </tr>\n",
       "    <tr>\n",
       "      <th>Yes</th>\n",
       "      <td>157.5000</td>\n",
       "      <td>130.0000</td>\n",
       "    </tr>\n",
       "  </tbody>\n",
       "</table>\n",
       "</div>"
      ],
      "text/plain": [
       "Education      Graduate  Not Graduate\n",
       "Self_Employed                        \n",
       "No             130.0000      113.0000\n",
       "Yes            157.5000      130.0000"
      ]
     },
     "execution_count": 68,
     "metadata": {},
     "output_type": "execute_result"
    }
   ],
   "source": [
    "# special method for handling LoanAmount\n",
    "loanAmt_pivot = train_df.pivot_table(index='Self_Employed',columns='Education',\n",
    "                             values='LoanAmount',aggfunc=np.median)\n",
    "loanAmt_pivot"
   ]
  },
  {
   "cell_type": "code",
   "execution_count": 69,
   "metadata": {},
   "outputs": [],
   "source": [
    "# Define function to return value of this pivot_table\n",
    "def lookup(x):\n",
    "    return loanAmt_pivot.loc[x['Self_Employed'],x['Education']]\n",
    "\n",
    "# Replace missing LoanAmount values\n",
    "train_df['LoanAmount'].fillna(train_df[train_df['LoanAmount'].isnull()].apply(lookup, axis=1), inplace=True)\n",
    "test_df['LoanAmount'].fillna(test_df[test_df['LoanAmount'].isnull()].apply(lookup, axis=1), inplace=True)"
   ]
  },
  {
   "cell_type": "code",
   "execution_count": 70,
   "metadata": {},
   "outputs": [],
   "source": [
    "train_df['LoanAmount_Log'] = np.log(train_df['LoanAmount'])\n",
    "test_df['LoanAmount_Log'] = np.log(test_df['LoanAmount'])"
   ]
  },
  {
   "cell_type": "code",
   "execution_count": 71,
   "metadata": {},
   "outputs": [
    {
     "data": {
      "image/png": "[encoded data removed]",
      "text/plain": [
       "<Figure size 1080x288 with 2 Axes>"
      ]
     },
     "metadata": {},
     "output_type": "display_data"
    }
   ],
   "source": [
    "#train_df.hist(column='LoanAmount_Log',bins=50)\n",
    "\n",
    "f, ax = plt.subplots(nrows=1, ncols=2, sharey=False, figsize=(15,4))\n",
    "_ = train_df.hist(column='LoanAmount_Log',bins=50, ax=ax[0], edgecolor='k')\n",
    "_ = test_df.hist(column='LoanAmount_Log',bins=50, ax=ax[1], edgecolor='k')"
   ]
  },
  {
   "cell_type": "markdown",
   "metadata": {},
   "source": [
    "At this point you should have no `NaN` values in your data. Let's confirm this."
   ]
  },
  {
   "cell_type": "code",
   "execution_count": 72,
   "metadata": {},
   "outputs": [
    {
     "data": {
      "text/plain": [
       "Gender                   0\n",
       "Married                  0\n",
       "Dependents               0\n",
       "Education                0\n",
       "Self_Employed            0\n",
       "ApplicantIncome          0\n",
       "CoapplicantIncome        0\n",
       "LoanAmount               0\n",
       "Loan_Amount_Term         0\n",
       "Credit_History           0\n",
       "Property_Area            0\n",
       "Loan_Status              0\n",
       "TotalIncome              0\n",
       "ApplicantIncome_Log      0\n",
       "CoapplicantIncome_Log    0\n",
       "TotalIncome_Log          0\n",
       "LoanAmount_Log           0\n",
       "dtype: int64"
      ]
     },
     "execution_count": 72,
     "metadata": {},
     "output_type": "execute_result"
    }
   ],
   "source": [
    "train_df.isnull().sum()"
   ]
  },
  {
   "cell_type": "code",
   "execution_count": 73,
   "metadata": {},
   "outputs": [
    {
     "data": {
      "text/plain": [
       "Gender                   0\n",
       "Married                  0\n",
       "Dependents               0\n",
       "Education                0\n",
       "Self_Employed            0\n",
       "ApplicantIncome          0\n",
       "CoapplicantIncome        0\n",
       "LoanAmount               0\n",
       "Loan_Amount_Term         0\n",
       "Credit_History           0\n",
       "Property_Area            0\n",
       "TotalIncome              0\n",
       "ApplicantIncome_Log      0\n",
       "CoapplicantIncome_Log    0\n",
       "TotalIncome_Log          0\n",
       "LoanAmount_Log           0\n",
       "dtype: int64"
      ]
     },
     "execution_count": 73,
     "metadata": {},
     "output_type": "execute_result"
    }
   ],
   "source": [
    "test_df.isnull().sum()"
   ]
  },
  {
   "cell_type": "markdown",
   "metadata": {},
   "source": [
    "### Encoding Categorical fields"
   ]
  },
  {
   "cell_type": "markdown",
   "metadata": {},
   "source": [
    "Plan for encoding categorical fields is as below:\n",
    "\n",
    "`\n",
    "Following are the categorical features:\n",
    "  Gender                 -- (Male/Female): LabelEncode \n",
    "  Married                -- (Yes/No): LabelEncode \n",
    "  Dependents             -- [0,1,2,3]: OneHotEncode\n",
    "  Education              -- (Graduate/Not Graduate): LabelEncode \n",
    "  Self_Employed          -- (Yes/No): LabelEncode\n",
    "  ApplicantIncome        -- N/A (numeric)\n",
    "  CoapplicantIncome      -- N/A (numeric)\n",
    "  LoanAmount             -- N/A (numeric)\n",
    "  Loan_Amount_Term       -- N/A (numeric)\n",
    "  Credit_History         -- Convert to astype(object)\n",
    "  Property_Area          -- (Semiurban/Urban/Rural): LabelEncode & OneHotEncode \n",
    "  Loan_Status            -- (Y/N): LabelEncode \n",
    "  ApplicantIncome_Log    -- N/A (numeric)\n",
    "  CoapplicantIncome_Log  -- N/A (numeric)\n",
    "  Total_Income           -- N/A (numeric)\n",
    "  Total_Income_Log       -- N/A (numeric)\n",
    "  dtype: int64\n",
    "`\n",
    "\n",
    "pandas offers a `get_dummies()` function, which does both `LabelEncode()` & `OneHotEncode()` on a column in one step. We will use this utility function to transform columns where `LabelEncode()` & `OneHotEncode()` is recommended."
   ]
  },
  {
   "cell_type": "code",
   "execution_count": 74,
   "metadata": {},
   "outputs": [
    {
     "name": "stdout",
     "output_type": "stream",
     "text": [
      "Y    525\n",
      "N     89\n",
      "Name: Credit_History, dtype: int64\n",
      "Y    308\n",
      "N     59\n",
      "Name: Credit_History, dtype: int64\n"
     ]
    }
   ],
   "source": [
    "# first convert the Credit_History column to an object type\n",
    "train_df['Credit_History'] = train_df['Credit_History'].astype(object)\n",
    "train_df.loc[(train_df.Credit_History == 1.0),['Credit_History']] = 'Y'\n",
    "train_df.loc[(train_df.Credit_History == 0.0),['Credit_History']] = 'N'\n",
    "print(train_df['Credit_History'].value_counts())\n",
    "\n",
    "# test data\n",
    "test_df['Credit_History'] = test_df['Credit_History'].astype(object)\n",
    "test_df.loc[(test_df.Credit_History == 1.0),['Credit_History']] = 'Y'\n",
    "test_df.loc[(test_df.Credit_History == 0.0),['Credit_History']] = 'N'\n",
    "print(test_df['Credit_History'].value_counts())"
   ]
  },
  {
   "cell_type": "code",
   "execution_count": 75,
   "metadata": {},
   "outputs": [],
   "source": [
    "# apply LabelEncode() to these columns\n",
    "from sklearn.preprocessing import LabelEncoder\n",
    "\n",
    "ccols = ['Gender','Married','Education','Self_Employed', 'Credit_History','Loan_Status']\n",
    "for col in ccols:\n",
    "    train_df[col] = LabelEncoder().fit_transform(train_df[col])\n",
    "    if col != 'Loan_Status':  # test dataset does not have this column!\n",
    "        test_df[col] = LabelEncoder().fit_transform(test_df[col])"
   ]
  },
  {
   "cell_type": "code",
   "execution_count": 76,
   "metadata": {},
   "outputs": [],
   "source": [
    "# apply OneHotEncoding (pd.get_dummies()) to these cols\n",
    "ohe_cols = ['Property_Area']\n",
    "# for df in [train_df, test_df]:\n",
    "#     df = pd.get_dummies(df, columns=ohe_cols, drop_first=True)\n",
    "    \n",
    "train_df = pd.get_dummies(train_df, columns=ohe_cols, drop_first=True)\n",
    "test_df = pd.get_dummies(test_df, columns=ohe_cols, drop_first=True)"
   ]
  },
  {
   "cell_type": "code",
   "execution_count": 77,
   "metadata": {},
   "outputs": [
    {
     "data": {
      "text/html": [
       "<div>\n",
       "<style scoped>\n",
       "    .dataframe tbody tr th:only-of-type {\n",
       "        vertical-align: middle;\n",
       "    }\n",
       "\n",
       "    .dataframe tbody tr th {\n",
       "        vertical-align: top;\n",
       "    }\n",
       "\n",
       "    .dataframe thead th {\n",
       "        text-align: right;\n",
       "    }\n",
       "</style>\n",
       "<table border=\"1\" class=\"dataframe\">\n",
       "  <thead>\n",
       "    <tr style=\"text-align: right;\">\n",
       "      <th></th>\n",
       "      <th>Gender</th>\n",
       "      <th>Married</th>\n",
       "      <th>Dependents</th>\n",
       "      <th>Education</th>\n",
       "      <th>Self_Employed</th>\n",
       "      <th>ApplicantIncome</th>\n",
       "      <th>CoapplicantIncome</th>\n",
       "      <th>LoanAmount</th>\n",
       "      <th>Loan_Amount_Term</th>\n",
       "      <th>Credit_History</th>\n",
       "      <th>Loan_Status</th>\n",
       "      <th>TotalIncome</th>\n",
       "      <th>ApplicantIncome_Log</th>\n",
       "      <th>CoapplicantIncome_Log</th>\n",
       "      <th>TotalIncome_Log</th>\n",
       "      <th>LoanAmount_Log</th>\n",
       "      <th>Property_Area_Semiurban</th>\n",
       "      <th>Property_Area_Urban</th>\n",
       "    </tr>\n",
       "    <tr>\n",
       "      <th>Loan_ID</th>\n",
       "      <th></th>\n",
       "      <th></th>\n",
       "      <th></th>\n",
       "      <th></th>\n",
       "      <th></th>\n",
       "      <th></th>\n",
       "      <th></th>\n",
       "      <th></th>\n",
       "      <th></th>\n",
       "      <th></th>\n",
       "      <th></th>\n",
       "      <th></th>\n",
       "      <th></th>\n",
       "      <th></th>\n",
       "      <th></th>\n",
       "      <th></th>\n",
       "      <th></th>\n",
       "      <th></th>\n",
       "    </tr>\n",
       "  </thead>\n",
       "  <tbody>\n",
       "    <tr>\n",
       "      <th>LP001002</th>\n",
       "      <td>1</td>\n",
       "      <td>0</td>\n",
       "      <td>0</td>\n",
       "      <td>0</td>\n",
       "      <td>0</td>\n",
       "      <td>5849</td>\n",
       "      <td>0.0000</td>\n",
       "      <td>130.0000</td>\n",
       "      <td>360.0000</td>\n",
       "      <td>1</td>\n",
       "      <td>1</td>\n",
       "      <td>5849.0000</td>\n",
       "      <td>8.6740</td>\n",
       "      <td>0.0000</td>\n",
       "      <td>8.6740</td>\n",
       "      <td>4.8675</td>\n",
       "      <td>0</td>\n",
       "      <td>1</td>\n",
       "    </tr>\n",
       "    <tr>\n",
       "      <th>LP001003</th>\n",
       "      <td>1</td>\n",
       "      <td>1</td>\n",
       "      <td>1</td>\n",
       "      <td>0</td>\n",
       "      <td>0</td>\n",
       "      <td>4583</td>\n",
       "      <td>1508.0000</td>\n",
       "      <td>128.0000</td>\n",
       "      <td>360.0000</td>\n",
       "      <td>1</td>\n",
       "      <td>0</td>\n",
       "      <td>6091.0000</td>\n",
       "      <td>8.4301</td>\n",
       "      <td>7.3185</td>\n",
       "      <td>8.7146</td>\n",
       "      <td>4.8520</td>\n",
       "      <td>0</td>\n",
       "      <td>0</td>\n",
       "    </tr>\n",
       "    <tr>\n",
       "      <th>LP001005</th>\n",
       "      <td>1</td>\n",
       "      <td>1</td>\n",
       "      <td>0</td>\n",
       "      <td>0</td>\n",
       "      <td>1</td>\n",
       "      <td>3000</td>\n",
       "      <td>0.0000</td>\n",
       "      <td>66.0000</td>\n",
       "      <td>360.0000</td>\n",
       "      <td>1</td>\n",
       "      <td>1</td>\n",
       "      <td>3000.0000</td>\n",
       "      <td>8.0064</td>\n",
       "      <td>0.0000</td>\n",
       "      <td>8.0064</td>\n",
       "      <td>4.1897</td>\n",
       "      <td>0</td>\n",
       "      <td>1</td>\n",
       "    </tr>\n",
       "    <tr>\n",
       "      <th>LP001006</th>\n",
       "      <td>1</td>\n",
       "      <td>1</td>\n",
       "      <td>0</td>\n",
       "      <td>1</td>\n",
       "      <td>0</td>\n",
       "      <td>2583</td>\n",
       "      <td>2358.0000</td>\n",
       "      <td>120.0000</td>\n",
       "      <td>360.0000</td>\n",
       "      <td>1</td>\n",
       "      <td>1</td>\n",
       "      <td>4941.0000</td>\n",
       "      <td>7.8567</td>\n",
       "      <td>7.7656</td>\n",
       "      <td>8.5053</td>\n",
       "      <td>4.7875</td>\n",
       "      <td>0</td>\n",
       "      <td>1</td>\n",
       "    </tr>\n",
       "    <tr>\n",
       "      <th>LP001008</th>\n",
       "      <td>1</td>\n",
       "      <td>0</td>\n",
       "      <td>0</td>\n",
       "      <td>0</td>\n",
       "      <td>0</td>\n",
       "      <td>6000</td>\n",
       "      <td>0.0000</td>\n",
       "      <td>141.0000</td>\n",
       "      <td>360.0000</td>\n",
       "      <td>1</td>\n",
       "      <td>1</td>\n",
       "      <td>6000.0000</td>\n",
       "      <td>8.6995</td>\n",
       "      <td>0.0000</td>\n",
       "      <td>8.6995</td>\n",
       "      <td>4.9488</td>\n",
       "      <td>0</td>\n",
       "      <td>1</td>\n",
       "    </tr>\n",
       "  </tbody>\n",
       "</table>\n",
       "</div>"
      ],
      "text/plain": [
       "          Gender  Married Dependents  Education  Self_Employed  ApplicantIncome  CoapplicantIncome  LoanAmount  Loan_Amount_Term  Credit_History  Loan_Status  TotalIncome  ApplicantIncome_Log  CoapplicantIncome_Log  TotalIncome_Log  LoanAmount_Log  Property_Area_Semiurban  Property_Area_Urban\n",
       "Loan_ID                                                                                                                                                                                                                                                                                              \n",
       "LP001002       1        0          0          0              0             5849             0.0000    130.0000          360.0000               1            1    5849.0000               8.6740                 0.0000           8.6740          4.8675                        0                    1\n",
       "LP001003       1        1          1          0              0             4583          1508.0000    128.0000          360.0000               1            0    6091.0000               8.4301                 7.3185           8.7146          4.8520                        0                    0\n",
       "LP001005       1        1          0          0              1             3000             0.0000     66.0000          360.0000               1            1    3000.0000               8.0064                 0.0000           8.0064          4.1897                        0                    1\n",
       "LP001006       1        1          0          1              0             2583          2358.0000    120.0000          360.0000               1            1    4941.0000               7.8567                 7.7656           8.5053          4.7875                        0                    1\n",
       "LP001008       1        0          0          0              0             6000             0.0000    141.0000          360.0000               1            1    6000.0000               8.6995                 0.0000           8.6995          4.9488                        0                    1"
      ]
     },
     "execution_count": 77,
     "metadata": {},
     "output_type": "execute_result"
    }
   ],
   "source": [
    "train_df.head()"
   ]
  },
  {
   "cell_type": "code",
   "execution_count": 78,
   "metadata": {},
   "outputs": [],
   "source": [
    "train_df['Dependents'] = train_df['Dependents'].astype(int)\n",
    "test_df['Dependents'] = test_df['Dependents'].astype(int)"
   ]
  },
  {
   "cell_type": "code",
   "execution_count": 79,
   "metadata": {},
   "outputs": [
    {
     "name": "stdout",
     "output_type": "stream",
     "text": [
      "<class 'pandas.core.frame.DataFrame'>\n",
      "Index: 614 entries, LP001002 to LP002990\n",
      "Data columns (total 18 columns):\n",
      "Gender                     614 non-null int64\n",
      "Married                    614 non-null int64\n",
      "Dependents                 614 non-null int64\n",
      "Education                  614 non-null int64\n",
      "Self_Employed              614 non-null int64\n",
      "ApplicantIncome            614 non-null int64\n",
      "CoapplicantIncome          614 non-null float64\n",
      "LoanAmount                 614 non-null float64\n",
      "Loan_Amount_Term           614 non-null float64\n",
      "Credit_History             614 non-null int64\n",
      "Loan_Status                614 non-null int64\n",
      "TotalIncome                614 non-null float64\n",
      "ApplicantIncome_Log        614 non-null float64\n",
      "CoapplicantIncome_Log      614 non-null float64\n",
      "TotalIncome_Log            614 non-null float64\n",
      "LoanAmount_Log             614 non-null float64\n",
      "Property_Area_Semiurban    614 non-null uint8\n",
      "Property_Area_Urban        614 non-null uint8\n",
      "dtypes: float64(8), int64(8), uint8(2)\n",
      "memory usage: 102.7+ KB\n"
     ]
    }
   ],
   "source": [
    "train_df.info()"
   ]
  },
  {
   "cell_type": "markdown",
   "metadata": {},
   "source": [
    "### Save _cleaned_ train & test data to CSV files"
   ]
  },
  {
   "cell_type": "code",
   "execution_count": 80,
   "metadata": {},
   "outputs": [
    {
     "name": "stdout",
     "output_type": "stream",
     "text": [
      "Saved cleaned training dataset to -> ./data/loan_prediction_train_data_cleaned.csv\n",
      "Saved cleaned test dataset to -> ./data/loan_prediction_test_data_cleaned.csv\n"
     ]
    }
   ],
   "source": [
    "clean_train_data_file = './data/loan_prediction_train_data_cleaned.csv'\n",
    "train_df.to_csv(clean_train_data_file)\n",
    "print('Saved cleaned training dataset to -> %s' % clean_train_data_file)\n",
    "\n",
    "\n",
    "clean_test_data_file = './data/loan_prediction_test_data_cleaned.csv'\n",
    "test_df.to_csv(clean_test_data_file)\n",
    "print('Saved cleaned test dataset to -> %s' % clean_test_data_file)"
   ]
  },
  {
   "cell_type": "code",
   "execution_count": 81,
   "metadata": {},
   "outputs": [
    {
     "data": {
      "text/html": [
       "<div>\n",
       "<style scoped>\n",
       "    .dataframe tbody tr th:only-of-type {\n",
       "        vertical-align: middle;\n",
       "    }\n",
       "\n",
       "    .dataframe tbody tr th {\n",
       "        vertical-align: top;\n",
       "    }\n",
       "\n",
       "    .dataframe thead th {\n",
       "        text-align: right;\n",
       "    }\n",
       "</style>\n",
       "<table border=\"1\" class=\"dataframe\">\n",
       "  <thead>\n",
       "    <tr style=\"text-align: right;\">\n",
       "      <th></th>\n",
       "      <th>Loan_ID</th>\n",
       "      <th>Gender</th>\n",
       "      <th>Married</th>\n",
       "      <th>Dependents</th>\n",
       "      <th>Education</th>\n",
       "      <th>Self_Employed</th>\n",
       "      <th>ApplicantIncome</th>\n",
       "      <th>CoapplicantIncome</th>\n",
       "      <th>LoanAmount</th>\n",
       "      <th>Loan_Amount_Term</th>\n",
       "      <th>Credit_History</th>\n",
       "      <th>Loan_Status</th>\n",
       "      <th>TotalIncome</th>\n",
       "      <th>ApplicantIncome_Log</th>\n",
       "      <th>CoapplicantIncome_Log</th>\n",
       "      <th>TotalIncome_Log</th>\n",
       "      <th>LoanAmount_Log</th>\n",
       "      <th>Property_Area_Semiurban</th>\n",
       "      <th>Property_Area_Urban</th>\n",
       "    </tr>\n",
       "  </thead>\n",
       "  <tbody>\n",
       "    <tr>\n",
       "      <th>0</th>\n",
       "      <td>LP001002</td>\n",
       "      <td>1</td>\n",
       "      <td>0</td>\n",
       "      <td>0</td>\n",
       "      <td>0</td>\n",
       "      <td>0</td>\n",
       "      <td>5849</td>\n",
       "      <td>0.0000</td>\n",
       "      <td>130.0000</td>\n",
       "      <td>360.0000</td>\n",
       "      <td>1</td>\n",
       "      <td>1</td>\n",
       "      <td>5849.0000</td>\n",
       "      <td>8.6740</td>\n",
       "      <td>0.0000</td>\n",
       "      <td>8.6740</td>\n",
       "      <td>4.8675</td>\n",
       "      <td>0</td>\n",
       "      <td>1</td>\n",
       "    </tr>\n",
       "    <tr>\n",
       "      <th>1</th>\n",
       "      <td>LP001003</td>\n",
       "      <td>1</td>\n",
       "      <td>1</td>\n",
       "      <td>1</td>\n",
       "      <td>0</td>\n",
       "      <td>0</td>\n",
       "      <td>4583</td>\n",
       "      <td>1508.0000</td>\n",
       "      <td>128.0000</td>\n",
       "      <td>360.0000</td>\n",
       "      <td>1</td>\n",
       "      <td>0</td>\n",
       "      <td>6091.0000</td>\n",
       "      <td>8.4301</td>\n",
       "      <td>7.3185</td>\n",
       "      <td>8.7146</td>\n",
       "      <td>4.8520</td>\n",
       "      <td>0</td>\n",
       "      <td>0</td>\n",
       "    </tr>\n",
       "    <tr>\n",
       "      <th>2</th>\n",
       "      <td>LP001005</td>\n",
       "      <td>1</td>\n",
       "      <td>1</td>\n",
       "      <td>0</td>\n",
       "      <td>0</td>\n",
       "      <td>1</td>\n",
       "      <td>3000</td>\n",
       "      <td>0.0000</td>\n",
       "      <td>66.0000</td>\n",
       "      <td>360.0000</td>\n",
       "      <td>1</td>\n",
       "      <td>1</td>\n",
       "      <td>3000.0000</td>\n",
       "      <td>8.0064</td>\n",
       "      <td>0.0000</td>\n",
       "      <td>8.0064</td>\n",
       "      <td>4.1897</td>\n",
       "      <td>0</td>\n",
       "      <td>1</td>\n",
       "    </tr>\n",
       "    <tr>\n",
       "      <th>3</th>\n",
       "      <td>LP001006</td>\n",
       "      <td>1</td>\n",
       "      <td>1</td>\n",
       "      <td>0</td>\n",
       "      <td>1</td>\n",
       "      <td>0</td>\n",
       "      <td>2583</td>\n",
       "      <td>2358.0000</td>\n",
       "      <td>120.0000</td>\n",
       "      <td>360.0000</td>\n",
       "      <td>1</td>\n",
       "      <td>1</td>\n",
       "      <td>4941.0000</td>\n",
       "      <td>7.8567</td>\n",
       "      <td>7.7656</td>\n",
       "      <td>8.5053</td>\n",
       "      <td>4.7875</td>\n",
       "      <td>0</td>\n",
       "      <td>1</td>\n",
       "    </tr>\n",
       "    <tr>\n",
       "      <th>4</th>\n",
       "      <td>LP001008</td>\n",
       "      <td>1</td>\n",
       "      <td>0</td>\n",
       "      <td>0</td>\n",
       "      <td>0</td>\n",
       "      <td>0</td>\n",
       "      <td>6000</td>\n",
       "      <td>0.0000</td>\n",
       "      <td>141.0000</td>\n",
       "      <td>360.0000</td>\n",
       "      <td>1</td>\n",
       "      <td>1</td>\n",
       "      <td>6000.0000</td>\n",
       "      <td>8.6995</td>\n",
       "      <td>0.0000</td>\n",
       "      <td>8.6995</td>\n",
       "      <td>4.9488</td>\n",
       "      <td>0</td>\n",
       "      <td>1</td>\n",
       "    </tr>\n",
       "  </tbody>\n",
       "</table>\n",
       "</div>"
      ],
      "text/plain": [
       "    Loan_ID  Gender  Married  Dependents  Education  Self_Employed  ApplicantIncome  CoapplicantIncome  LoanAmount  Loan_Amount_Term  Credit_History  Loan_Status  TotalIncome  ApplicantIncome_Log  CoapplicantIncome_Log  TotalIncome_Log  LoanAmount_Log  Property_Area_Semiurban  Property_Area_Urban\n",
       "0  LP001002       1        0           0          0              0             5849             0.0000    130.0000          360.0000               1            1    5849.0000               8.6740                 0.0000           8.6740          4.8675                        0                    1\n",
       "1  LP001003       1        1           1          0              0             4583          1508.0000    128.0000          360.0000               1            0    6091.0000               8.4301                 7.3185           8.7146          4.8520                        0                    0\n",
       "2  LP001005       1        1           0          0              1             3000             0.0000     66.0000          360.0000               1            1    3000.0000               8.0064                 0.0000           8.0064          4.1897                        0                    1\n",
       "3  LP001006       1        1           0          1              0             2583          2358.0000    120.0000          360.0000               1            1    4941.0000               7.8567                 7.7656           8.5053          4.7875                        0                    1\n",
       "4  LP001008       1        0           0          0              0             6000             0.0000    141.0000          360.0000               1            1    6000.0000               8.6995                 0.0000           8.6995          4.9488                        0                    1"
      ]
     },
     "execution_count": 81,
     "metadata": {},
     "output_type": "execute_result"
    }
   ],
   "source": [
    "# just a quick check\n",
    "train_df2 = pd.read_csv(clean_train_data_file)\n",
    "train_df2.head()"
   ]
  },
  {
   "cell_type": "code",
   "execution_count": 82,
   "metadata": {},
   "outputs": [
    {
     "data": {
      "text/html": [
       "<div>\n",
       "<style scoped>\n",
       "    .dataframe tbody tr th:only-of-type {\n",
       "        vertical-align: middle;\n",
       "    }\n",
       "\n",
       "    .dataframe tbody tr th {\n",
       "        vertical-align: top;\n",
       "    }\n",
       "\n",
       "    .dataframe thead th {\n",
       "        text-align: right;\n",
       "    }\n",
       "</style>\n",
       "<table border=\"1\" class=\"dataframe\">\n",
       "  <thead>\n",
       "    <tr style=\"text-align: right;\">\n",
       "      <th></th>\n",
       "      <th>Loan_ID</th>\n",
       "      <th>Gender</th>\n",
       "      <th>Married</th>\n",
       "      <th>Dependents</th>\n",
       "      <th>Education</th>\n",
       "      <th>Self_Employed</th>\n",
       "      <th>ApplicantIncome</th>\n",
       "      <th>CoapplicantIncome</th>\n",
       "      <th>LoanAmount</th>\n",
       "      <th>Loan_Amount_Term</th>\n",
       "      <th>Credit_History</th>\n",
       "      <th>TotalIncome</th>\n",
       "      <th>ApplicantIncome_Log</th>\n",
       "      <th>CoapplicantIncome_Log</th>\n",
       "      <th>TotalIncome_Log</th>\n",
       "      <th>LoanAmount_Log</th>\n",
       "      <th>Property_Area_Semiurban</th>\n",
       "      <th>Property_Area_Urban</th>\n",
       "    </tr>\n",
       "  </thead>\n",
       "  <tbody>\n",
       "    <tr>\n",
       "      <th>0</th>\n",
       "      <td>LP001015</td>\n",
       "      <td>1</td>\n",
       "      <td>1</td>\n",
       "      <td>0</td>\n",
       "      <td>0</td>\n",
       "      <td>0</td>\n",
       "      <td>5720</td>\n",
       "      <td>0</td>\n",
       "      <td>110.0000</td>\n",
       "      <td>360.0000</td>\n",
       "      <td>1</td>\n",
       "      <td>5720</td>\n",
       "      <td>8.6517</td>\n",
       "      <td>0.0000</td>\n",
       "      <td>8.6517</td>\n",
       "      <td>4.7005</td>\n",
       "      <td>0</td>\n",
       "      <td>1</td>\n",
       "    </tr>\n",
       "    <tr>\n",
       "      <th>1</th>\n",
       "      <td>LP001022</td>\n",
       "      <td>1</td>\n",
       "      <td>1</td>\n",
       "      <td>1</td>\n",
       "      <td>0</td>\n",
       "      <td>0</td>\n",
       "      <td>3076</td>\n",
       "      <td>1500</td>\n",
       "      <td>126.0000</td>\n",
       "      <td>360.0000</td>\n",
       "      <td>1</td>\n",
       "      <td>4576</td>\n",
       "      <td>8.0314</td>\n",
       "      <td>7.3132</td>\n",
       "      <td>8.4286</td>\n",
       "      <td>4.8363</td>\n",
       "      <td>0</td>\n",
       "      <td>1</td>\n",
       "    </tr>\n",
       "    <tr>\n",
       "      <th>2</th>\n",
       "      <td>LP001031</td>\n",
       "      <td>1</td>\n",
       "      <td>1</td>\n",
       "      <td>2</td>\n",
       "      <td>0</td>\n",
       "      <td>0</td>\n",
       "      <td>5000</td>\n",
       "      <td>1800</td>\n",
       "      <td>208.0000</td>\n",
       "      <td>360.0000</td>\n",
       "      <td>1</td>\n",
       "      <td>6800</td>\n",
       "      <td>8.5172</td>\n",
       "      <td>7.4955</td>\n",
       "      <td>8.8247</td>\n",
       "      <td>5.3375</td>\n",
       "      <td>0</td>\n",
       "      <td>1</td>\n",
       "    </tr>\n",
       "    <tr>\n",
       "      <th>3</th>\n",
       "      <td>LP001035</td>\n",
       "      <td>1</td>\n",
       "      <td>1</td>\n",
       "      <td>2</td>\n",
       "      <td>0</td>\n",
       "      <td>0</td>\n",
       "      <td>2340</td>\n",
       "      <td>2546</td>\n",
       "      <td>100.0000</td>\n",
       "      <td>360.0000</td>\n",
       "      <td>1</td>\n",
       "      <td>4886</td>\n",
       "      <td>7.7579</td>\n",
       "      <td>7.8423</td>\n",
       "      <td>8.4941</td>\n",
       "      <td>4.6052</td>\n",
       "      <td>0</td>\n",
       "      <td>1</td>\n",
       "    </tr>\n",
       "    <tr>\n",
       "      <th>4</th>\n",
       "      <td>LP001051</td>\n",
       "      <td>1</td>\n",
       "      <td>0</td>\n",
       "      <td>0</td>\n",
       "      <td>1</td>\n",
       "      <td>0</td>\n",
       "      <td>3276</td>\n",
       "      <td>0</td>\n",
       "      <td>78.0000</td>\n",
       "      <td>360.0000</td>\n",
       "      <td>1</td>\n",
       "      <td>3276</td>\n",
       "      <td>8.0944</td>\n",
       "      <td>0.0000</td>\n",
       "      <td>8.0944</td>\n",
       "      <td>4.3567</td>\n",
       "      <td>0</td>\n",
       "      <td>1</td>\n",
       "    </tr>\n",
       "  </tbody>\n",
       "</table>\n",
       "</div>"
      ],
      "text/plain": [
       "    Loan_ID  Gender  Married  Dependents  Education  Self_Employed  ApplicantIncome  CoapplicantIncome  LoanAmount  Loan_Amount_Term  Credit_History  TotalIncome  ApplicantIncome_Log  CoapplicantIncome_Log  TotalIncome_Log  LoanAmount_Log  Property_Area_Semiurban  Property_Area_Urban\n",
       "0  LP001015       1        1           0          0              0             5720                  0    110.0000          360.0000               1         5720               8.6517                 0.0000           8.6517          4.7005                        0                    1\n",
       "1  LP001022       1        1           1          0              0             3076               1500    126.0000          360.0000               1         4576               8.0314                 7.3132           8.4286          4.8363                        0                    1\n",
       "2  LP001031       1        1           2          0              0             5000               1800    208.0000          360.0000               1         6800               8.5172                 7.4955           8.8247          5.3375                        0                    1\n",
       "3  LP001035       1        1           2          0              0             2340               2546    100.0000          360.0000               1         4886               7.7579                 7.8423           8.4941          4.6052                        0                    1\n",
       "4  LP001051       1        0           0          1              0             3276                  0     78.0000          360.0000               1         3276               8.0944                 0.0000           8.0944          4.3567                        0                    1"
      ]
     },
     "execution_count": 82,
     "metadata": {},
     "output_type": "execute_result"
    }
   ],
   "source": [
    "test_df2 = pd.read_csv(clean_test_data_file)\n",
    "test_df2.head()"
   ]
  },
  {
   "cell_type": "markdown",
   "metadata": {},
   "source": [
    "**NOTE:** The cleaned up train & test data files have been saved to disk. We can now do the analysis on this cleaned data. Analysis has been done in a separate Notebook."
   ]
  },
  {
   "cell_type": "markdown",
   "metadata": {},
   "source": [
    "# <center> -- END -- </center>"
   ]
  }
 ],
 "metadata": {
  "kernelspec": {
   "display_name": "Python 3",
   "language": "python",
   "name": "python3"
  },
  "language_info": {
   "codemirror_mode": {
    "name": "ipython",
    "version": 3
   },
   "file_extension": ".py",
   "mimetype": "text/x-python",
   "name": "python",
   "nbconvert_exporter": "python",
   "pygments_lexer": "ipython3",
   "version": "3.6.5"
  }
 },
 "nbformat": 4,
 "nbformat_minor": 1
}
